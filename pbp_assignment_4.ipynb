{
 "cells": [
  {
   "cell_type": "code",
   "execution_count": null,
   "metadata": {},
   "outputs": [],
   "source": [
    "# 1.Write a Python Program to Find the Factorial of a Number?\n",
    "def factorial(n):\n",
    "  if n < 0:\n",
    "    return 0\n",
    "  else:\n",
    "    return 1 if (n == 1 or 0) else n * factorial(n-1)\n",
    "try:\n",
    "  a = int(input(\"Enter a number to find it's factorial: \"))\n",
    "  print(factorial(a))\n",
    "except Exception as e:\n",
    "  print(\"Error occured:\",e)"
   ]
  },
  {
   "cell_type": "code",
   "execution_count": null,
   "metadata": {},
   "outputs": [],
   "source": [
    "# 2.Write a Python Program to Display the multiplication Table?\n",
    "def mult_tabl(n):\n",
    "  for i in range(1,13):\n",
    "    print(f\"{n} * {i} = {n*i}\")\n",
    "\n",
    "try:\n",
    "  a = int(input(\"Enter a number for it's multipliaction table: \"))\n",
    "  mult_tabl(a)\n",
    "except Exception as e:\n",
    "  print(\"Error occured:\",e)"
   ]
  },
  {
   "cell_type": "code",
   "execution_count": null,
   "metadata": {},
   "outputs": [],
   "source": [
    "# 3.Write a Python Program to Print the Fibonacci sequence?\n",
    "def fibonacci(n):\n",
    "  if n <= 0:\n",
    "    return \"enter number greter than 0\"\n",
    "  else:\n",
    "    a = 0\n",
    "    b = 1\n",
    "    count = 0\n",
    "    print(f\"Fibonacci sequence:\")\n",
    "    for i in range(n):\n",
    "      print(a, end=\" \")\n",
    "      c = a+b\n",
    "      a = b\n",
    "      b = c\n",
    "      \n",
    "try:\n",
    "  a = int(input(\"Enter a number of terms to view fibonacci sequence: \"))\n",
    "  fibonacci(a)\n",
    "except Exception as e:\n",
    "  print(\"Error occured:\",e)"
   ]
  },
  {
   "cell_type": "code",
   "execution_count": null,
   "metadata": {},
   "outputs": [],
   "source": [
    "# 4. Write a Python Program to Check Armstrong Number?\n",
    "def armstrong(n):\n",
    "  n = str(n)\n",
    "  l = len(n)\n",
    "  total = 0\n",
    "  for i in n:\n",
    "    total += int(i)**l\n",
    "  if total == int(n):\n",
    "    print(\"Yes it is armstrong number\")\n",
    "  else:\n",
    "    print(\"It's not a armstrong number\")\n",
    "\n",
    "\n",
    "try:\n",
    "  a = int(input(\"Enter a number to check whether it is armstrong or not: \"))\n",
    "  armstrong(a)\n",
    "except Exception as e:\n",
    "  print(\"Error occured:\",e)"
   ]
  },
  {
   "cell_type": "code",
   "execution_count": null,
   "metadata": {},
   "outputs": [],
   "source": [
    "# 5.Write a Python Program to Find Armstrong Number in an Interval?\n",
    "def armstrong(n,k):\n",
    "  for j in range(n,k+1):\n",
    "    total = 0\n",
    "    nc = str(j)\n",
    "    l = len(nc)\n",
    "    for i in nc:\n",
    "      total += int(i)**l\n",
    "    if total == j:\n",
    "      print(f\"{j} is armstrong number\")\n",
    "\n",
    "\n",
    "try:\n",
    "  a,b = map(int,input(\"Enter a range to check armstrong numbers in that Interval: \").split(\" \"))\n",
    "  armstrong(a,b)\n",
    "except Exception as e:\n",
    "  print(\"Error occured:\",e)"
   ]
  },
  {
   "cell_type": "code",
   "execution_count": null,
   "metadata": {},
   "outputs": [],
   "source": [
    "# 6.Write a Python Program to Find the Sum of Natural Numbers?\n",
    "def sum_natural_num(n):\n",
    "  s = (n*(n+1))//2\n",
    "  return s\n",
    "try:\n",
    "  a = int(input(\"Enter a number to find Sum of Natural number: \"))\n",
    "  print(\"Output: \",sum_natural_num(a))\n",
    "except Exception as e:\n",
    "  print(\"Error occured:\",e)"
   ]
  }
 ],
 "metadata": {
  "colab": {
   "collapsed_sections": [],
   "name": "Untitled2.ipynb",
   "provenance": []
  },
  "kernelspec": {
   "display_name": "Python 3 (ipykernel)",
   "language": "python",
   "name": "python3"
  },
  "language_info": {
   "codemirror_mode": {
    "name": "ipython",
    "version": 3
   },
   "file_extension": ".py",
   "mimetype": "text/x-python",
   "name": "python",
   "nbconvert_exporter": "python",
   "pygments_lexer": "ipython3",
   "version": "3.8.1"
  }
 },
 "nbformat": 4,
 "nbformat_minor": 1
}
