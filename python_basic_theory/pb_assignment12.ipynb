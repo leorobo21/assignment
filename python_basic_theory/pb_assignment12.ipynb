{
 "cells": [
  {
   "cell_type": "markdown",
   "metadata": {},
   "source": [
    "##########Assignment12##########\n",
    "1. In what modes should the PdfFileReader() and PdfFileWriter() File objects will be opened?\n",
    "> PyPDF2 module\n",
    "\n",
    "2. From a PdfFileReader object, how do you get a Page object for page 5?\n",
    "> getPage(4)\n",
    "\n",
    "3. What PdfFileReader variable stores the number of pages in the PDF document?\n",
    "> numPages\n",
    "\n",
    "4. If a PdfFileReader object’s PDF is encrypted with the password swordfish, what must you do before you can obtain Page objects from it?\n",
    "> In this case first we need to decrypt the file with the password\n",
    "\n",
    "5. What methods do you use to rotate a page?\n",
    "> rotateClockwise(),rotateCounterClockwise(), mergeRotatedPage(), \n",
    "mergeRotatedScaledPage(),mergeRotatedScaledTranslatedPage()\n",
    "\n",
    "6. What is the difference between a Run object and a Paragraph object?\n",
    "> Word documnets contained formated text wrapped within three object levels.\n",
    "> Document objects contain list of paragraph objects for the paragraphs in the document. A run object is Contiguous run of text with the same text style. \n",
    "\n",
    "7. How do you obtain a list of Paragraph objects for a Document object that’s stored in a variable named doc?\n",
    "> doc.paragraphs\n",
    "\n",
    "8. What type of object has bold, underline, italic, strike, and outline variables?\n",
    "> run object\n",
    "\n",
    "9. What is the difference between False, True, and None for the bold variable?\n",
    "> False - bold attribute is alwyas disabled.\n",
    "> True - bold attribute is always enabled, no matter what other styles applied to run.\n",
    "> None - defaults whatever run style is set to.\n",
    "\n",
    "10. How do you create a Document object for a new Word document?\n",
    "> To create new word document we need to call\n",
    "> docx.Document()\n",
    "\n",
    "11. How do you add a paragraph with the text 'Hello, there!' to a Document object stored in a variable named doc?\n",
    "> doc.add_paragraph('Hello, there!')\n",
    "\n",
    "12. What integers represent the levels of headings available in Word documents?\n",
    "> there are 0-4\n",
    "> 0 - It is used for Heading Title style, which is used for the top of the document.\n",
    "> 1 to 4 - main heading to lowest subheading."
   ]
  }
 ],
 "metadata": {
  "kernelspec": {
   "display_name": "Python 3 (ipykernel)",
   "language": "python",
   "name": "python3"
  },
  "language_info": {
   "codemirror_mode": {
    "name": "ipython",
    "version": 3
   },
   "file_extension": ".py",
   "mimetype": "text/x-python",
   "name": "python",
   "nbconvert_exporter": "python",
   "pygments_lexer": "ipython3",
   "version": "3.8.1"
  }
 },
 "nbformat": 4,
 "nbformat_minor": 4
}
