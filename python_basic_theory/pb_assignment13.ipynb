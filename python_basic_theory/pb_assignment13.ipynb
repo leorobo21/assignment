{
 "cells": [
  {
   "cell_type": "markdown",
   "metadata": {},
   "source": [
    "########## Assignment13##########\n",
    "1. What advantages do Excel spreadsheets have over CSV spreadsheets?\n",
    "> Excel spreadsheets have more features like font style,size,column width,etc..\n",
    "> CSV - simple text format.\n",
    "\n",
    "2.What do you pass to csv.reader() and csv.writer() to create reader and writer objects?\n",
    "> csv.reader(input_filename,dialect='excel', **fmtparams)\n",
    "> csv.writer(output_filename, dialect='excel', **fmtparams)\n",
    "\n",
    "3. What modes do File objects for reader and writer objects need to be opened in?\n",
    "> for reader object file should be opened in read mode(r)\n",
    "> for writer object file have to be opened in write mode(w)\n",
    "\n",
    "4. What method takes a list argument and writes it to a CSV file?\n",
    "> writerow()\n",
    "\n",
    "5. What do the keyword arguments delimiter and line terminator do?\n",
    "> delimiter - used to specify character seperator for each row in a cell.\n",
    "> line terminator - used to specify a character that comes at end of a row.\n",
    "\n",
    "6. What function takes a string of JSON data and returns a Python data structure?\n",
    "> json.loads()\n",
    "\n",
    "7. What function takes a Python data structure and returns a string of JSON data?\n",
    "> json.dumps()"
   ]
  }
 ],
 "metadata": {
  "kernelspec": {
   "display_name": "Python 3 (ipykernel)",
   "language": "python",
   "name": "python3"
  },
  "language_info": {
   "codemirror_mode": {
    "name": "ipython",
    "version": 3
   },
   "file_extension": ".py",
   "mimetype": "text/x-python",
   "name": "python",
   "nbconvert_exporter": "python",
   "pygments_lexer": "ipython3",
   "version": "3.8.1"
  }
 },
 "nbformat": 4,
 "nbformat_minor": 4
}
