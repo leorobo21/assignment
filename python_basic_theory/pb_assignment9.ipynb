{
 "cells": [
  {
   "cell_type": "markdown",
   "metadata": {},
   "source": [
    "##########Assignment10##########\n",
    "1. How do you distinguish between shutil.copy() and shutil.copytree()?\n",
    "> shutil.copy() - will copy single file\n",
    "> shutil.copytree() - will copy files recursively in a folder\n",
    "2. What function is used to rename files?\n",
    "> many ways are present os.rename(), shutil.move(),etc.\n",
    "3. What is the difference between the delete functions in the send2trash and shutil modules?\n",
    "> If we use shutil module to delete they will delete the files perminently but if we use send2trash module it will moves or sends files to trash or recycle bin.\n",
    "4.ZipFile objects have a close() method just like File objects’ close() method. What ZipFile method is equivalent to File objects’ open() method?\n",
    "> zipfile.ZipFile is equal to open() method\n",
    "\n",
    "5. Create a programme that searches a folder tree for files with a certain file extension (such as .pdf or .jpg). Copy these files from whatever location they are in to a new folder.\n",
    "\n",
    "import os\n",
    "import shutil\n",
    "\n",
    "input_path = input(\"Enter input path to search for files >> \")\n",
    "output_path = input(\"Enter output path to copy files >> \")\n",
    "extension = input(\"Enter extension to search for the files ex:csv,pdf,jpg,.etc >> \")\n",
    "if (os.path.isdir(input_path) and os.path.isdir(output_path)):\n",
    "  for root, dirs, file in os.walk(input_path):\n",
    "    for i in file:\n",
    "      f = i.split('.')\n",
    "      if f[-1].lower() == extension.lower():\n",
    "        try:\n",
    "          s = os.path.join(root,i)\n",
    "          shutil.copy2(s,output_path)\n",
    "          print(f\"file copied from {s} to {output_path}\")\n",
    "        except Exception as e:\n",
    "          print(\"Error occured: \",str(e))\n",
    "else:\n",
    "  print(\"Please enter valid input or output path\")"
   ]
  },
  {
   "cell_type": "code",
   "execution_count": null,
   "metadata": {},
   "outputs": [],
   "source": []
  }
 ],
 "metadata": {
  "kernelspec": {
   "display_name": "Python 3 (ipykernel)",
   "language": "python",
   "name": "python3"
  },
  "language_info": {
   "codemirror_mode": {
    "name": "ipython",
    "version": 3
   },
   "file_extension": ".py",
   "mimetype": "text/x-python",
   "name": "python",
   "nbconvert_exporter": "python",
   "pygments_lexer": "ipython3",
   "version": "3.8.1"
  }
 },
 "nbformat": 4,
 "nbformat_minor": 4
}
