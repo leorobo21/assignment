{
 "cells": [
  {
   "cell_type": "markdown",
   "metadata": {},
   "source": [
    "# Q1\n",
    "\n",
    "Why are functions advantageous to have in your programs?\n",
    "\n",
    "Function is a block of reusable code that is used to perform a specific task.\n",
    "The advantages of functions are:\n",
    ">> Reuse of code\n",
    ">> Reduction of duplicate code\n",
    ">> Improvement of code clarity\n",
    ">> Decomposion of comlpex problems into simpler pieces\n",
    ">> Information hiding"
   ]
  },
  {
   "cell_type": "markdown",
   "metadata": {},
   "source": [
    "# Q2\n",
    "\n",
    "When does the code in a function run: when it's specified or when it's called?\n",
    "\n",
    "when we defining a fuction it will not execute the statements, it will execute the block of code when it's called.\n"
   ]
  },
  {
   "cell_type": "markdown",
   "metadata": {},
   "source": [
    "# Q3\n",
    "\n",
    "What statement creates a function?\n",
    "\n",
    "The \"def\" keyword is a statement for defining a function in python.\n"
   ]
  },
  {
   "cell_type": "markdown",
   "metadata": {},
   "source": [
    "# Q4\n",
    "\n",
    "What is the difference between a function and a function call?\n",
    "\n",
    "Function is a block of reusable code that is used to perform a specific task.\n",
    "Whereas function call is used to execute that block of code inside a function."
   ]
  },
  {
   "cell_type": "markdown",
   "metadata": {},
   "source": [
    "# Q5\n",
    "\n",
    "How many global scopes are there in a Python program? How many local scopes?\n",
    "\n",
    "There is only one global and local scope exists per program execution. It remains until the program terminates and all its names are forgotten. Otherwise, the next time when we run the program, the names would remember their values from the previous run."
   ]
  },
  {
   "cell_type": "markdown",
   "metadata": {},
   "source": [
    "# Q6\n",
    "\n",
    "What happens to variables in a local scope when the function call returns?\n",
    "\n",
    "After function call returns completed local scope of a variable will be deleted. The scope of a varible will not be visible to outside of that function."
   ]
  },
  {
   "cell_type": "markdown",
   "metadata": {},
   "source": [
    "# Q7\n",
    "\n",
    "What is the concept of a return value? Is it possible to have a return value in an expression?\n",
    "\n",
    "\"return\" statement is used to end the execution of a function and returns the result to the caller. return can not be used outside of a function.\n",
    "No it is not possible to return value in an expression but we can return a expression as a result.\n",
    "ex:\n",
    "def recur(x):\n",
    "    return x+5"
   ]
  },
  {
   "cell_type": "markdown",
   "metadata": {},
   "source": [
    "# Q8\n",
    "\n",
    "If a function does not have a return statement, what is the return value of a call to that function?\n",
    "\n",
    "If a function does not have any return statement then it wil not return anything when we use print statement to call that function it will give return value as None.\n",
    "\n",
    "ex:\n",
    "def tr():\n",
    "    x=3\n",
    "    \n",
    "print(tr())\n",
    "\n",
    "output : None\n",
    "\n"
   ]
  },
  {
   "cell_type": "markdown",
   "metadata": {},
   "source": [
    "# Q9\n",
    "\n",
    "How do you make a function variable refer to the global variable?\n",
    "\n",
    "when we define a variable inside a function it's scope will be visible inside that functon only but if we want to visible globally we can use the keyword as \"global\"\n",
    "\n",
    "Ex:\n",
    "def tra():\n",
    "    global x\n",
    "    x=3\n",
    "\n",
    "tra()\n",
    "print(x)"
   ]
  },
  {
   "cell_type": "markdown",
   "metadata": {},
   "source": [
    "# Q10\n",
    "\n",
    "What is the data type of None?\n",
    "\n",
    "None keyword is an object, and it is a data type of the class NoneType."
   ]
  },
  {
   "cell_type": "markdown",
   "metadata": {},
   "source": [
    "# Q11\n",
    "\n",
    "What does the sentence import areallyourpetsnamederic do?\n",
    "\n",
    "When we use the sentence import areallyourpetsnamederic in python it will import the module called areallyourpetsnamederic,\n",
    "if that module not found it will it will error as module not found."
   ]
  },
  {
   "cell_type": "markdown",
   "metadata": {},
   "source": [
    "# Q12\n",
    "\n",
    " If you had a bacon() feature in a spam module, what would you call it after importing spam?\n",
    " \n",
    " we will call by spam.bacon()"
   ]
  },
  {
   "cell_type": "markdown",
   "metadata": {},
   "source": [
    "# Q13\n",
    "\n",
    "What can you do to save a programme from crashing if it encounters an error?\n",
    "\n",
    "If we a doubt that programme will crash then we can put that code in try block for not to crash programme and we can pass the control to Except block to know the the error. "
   ]
  },
  {
   "cell_type": "markdown",
   "metadata": {},
   "source": [
    "# Q14\n",
    "\n",
    " What is the purpose of the try clause? What is the purpose of the except clause?\n",
    " \n",
    " If we a doubt that programme will crash then we can put that code in try block for not to crash programme and we can pass the control to Except block to know the the error or  to do alternative way to run the programme."
   ]
  }
 ],
 "metadata": {
  "kernelspec": {
   "display_name": "Python 3",
   "language": "python",
   "name": "python3"
  },
  "language_info": {
   "codemirror_mode": {
    "name": "ipython",
    "version": 3
   },
   "file_extension": ".py",
   "mimetype": "text/x-python",
   "name": "python",
   "nbconvert_exporter": "python",
   "pygments_lexer": "ipython3",
   "version": "3.8.1"
  }
 },
 "nbformat": 4,
 "nbformat_minor": 4
}
