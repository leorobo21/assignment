{
 "cells": [
  {
   "cell_type": "markdown",
   "metadata": {},
   "source": [
    "# Q1\n",
    "\n",
    "What are the Boolean data type's two values? How do you go about writing them?\n",
    "\n",
    "Boolean data type is used to represent the truth value of an expression.\n",
    "\n",
    "The two Boolean data type's are True and False"
   ]
  },
  {
   "cell_type": "markdown",
   "metadata": {},
   "source": [
    "# Q2\n",
    "\n",
    "What are the three different types of Boolean operators?\n",
    "\n",
    "The three basic boolean operators are: AND, OR, and NOT"
   ]
  },
  {
   "cell_type": "markdown",
   "metadata": {},
   "source": [
    "# Q3\n",
    "\n",
    "Make a list of each Boolean operator's truth tables (i.e. every possible combination of Boolean values for the\n",
    "operator and what it evaluate ).\n",
    "\n",
    "Truth table for AND,OR,NAND,NOR,EX-OR,EX-NOR,NOT:\n",
    "   | x | y | x AND y |  x OR y  |  x NAND y  |  x NOR y  |  x EX-OR y  |  x EX-NOR y  | \n",
    "   | T | F |    F    |     T    |       T    |      F    |       T     |      F       |\n",
    "   | T | T |    T    |     T    |       F    |      F    |       F     |      T       |        \n",
    "   | F | T |    F    |     T    |       T    |      F    |       T     |      F       |\n",
    "   | F | F |    F    |     F    |       T    |      T    |       F     |      T       |\n",
    "\n",
    "  | x | NOT X |\n",
    "  | T |    F  |\n",
    "  | F |    T  |\n",
    "    \n",
    "    "
   ]
  },
  {
   "cell_type": "markdown",
   "metadata": {},
   "source": [
    "# Q4\n",
    "\n",
    "What are the values of the following expressions?\n",
    "\n",
    "(5 > 4) and (3 == 5) --> True and False = False\n",
    "not (5 > 4) --> not(True) = False\n",
    "(5 > 4) or (3 == 5) --> True or False = True\n",
    "(True and True) and (True == False) --> True and False = False\n",
    "(not False) or (not True) --> True or False = True"
   ]
  },
  {
   "cell_type": "markdown",
   "metadata": {},
   "source": [
    "# Q5\n",
    "\n",
    "What are the six different types of reference operators?\n",
    "\n",
    "==  --> Equal\n",
    "!=  --> Not Equal\n",
    ">  --> Greater than\n",
    "<  --> Less than\n",
    ">=  --> Greater than or equal to\n",
    "<= --> Less than or equal to    "
   ]
  },
  {
   "cell_type": "markdown",
   "metadata": {},
   "source": [
    " # Q6\n",
    " \n",
    " How do you tell the difference between the equal to and assignment operators?\n",
    "\n",
    " = is an assignment operator used to assigning values on the right to the variable on the left.\n",
    " The equal to(==) operator returns True if the values on either side of the operator are equal."
   ]
  },
  {
   "cell_type": "markdown",
   "metadata": {},
   "source": [
    " # Q7\n",
    "\n",
    " Describe a condition and when you would use one.\n",
    "\n",
    " we have conditional statements (if/elif/else)\n",
    " if(expression): if evaluate the expression to Boolean context if it is true then it enters into if block other wise it\n",
    " will not enter into if block."
   ]
  },
  {
   "cell_type": "markdown",
   "metadata": {},
   "source": [
    "# Q8\n",
    "\n",
    "Recognize the following three blocks in this code:\n",
    "\n",
    "spam = 0 # created a varaible called spam and a value 0\n",
    "if spam == 10: # Condition will return True if spam equal to 10 in our case spam is 0 it will return Flase it will not\n",
    "                 enter in if block\n",
    "\n",
    "    print('eggs') # if if condition returns True then first it will print 'eggs'\n",
    "\n",
    "    if spam > 5: # then it will check this condition any way it will returns True because above condition is already\n",
    "                   satisfied.\n",
    "        print('bacon') # it will print 'bacon'\n",
    "\n",
    "    else:    # it will not enter in else block\n",
    "        print('ham')\n",
    "\n",
    "    print('spam') # after printing 'eggs','bacon', now it will print 'spam'\n",
    "\n",
    "print('spam') # finally it will print 'spam'\n",
    "    "
   ]
  },
  {
   "cell_type": "code",
   "execution_count": 106,
   "metadata": {},
   "outputs": [
    {
     "name": "stdout",
     "output_type": "stream",
     "text": [
      "3\n",
      "Salutations!\n"
     ]
    }
   ],
   "source": [
    "# Q9\n",
    "\n",
    "'''Create a programme that prints. If 1 is stored in spam, prints Hello; if 2 is stored in spam, prints Howdy;\n",
    "and if 3 is stored in spam, prints Salutations! if there's something else in spam.'''\n",
    "\n",
    "spam = int(input())\n",
    "if spam == 1:\n",
    "    print('Hello')\n",
    "if spam == 2:\n",
    "    print('Howdy') \n",
    "if spam == 3:\n",
    "    print('Salutations!')\n",
    "else:\n",
    "    print(\"Something\")\n",
    "\n",
    "\n"
   ]
  },
  {
   "cell_type": "markdown",
   "metadata": {},
   "source": [
    "# Q10\n",
    "\n",
    "If your programme is stuck in an endless loop, what keys can you press?\n",
    "\n",
    "Ctrl+c\n"
   ]
  },
  {
   "cell_type": "markdown",
   "metadata": {},
   "source": [
    "# Q11\n",
    "\n",
    " How can you tell the difference between break and continue?\n",
    " \n",
    "The break statement is used for terminating the loop in which it is used. If the break statement is used inside nested loops, the current loop is terminated, and the flow will continue with the code followed that comes after the loop.\n",
    " \n",
    "The continue statement skips the code that comes after it, and the control is passed back to the start for the next iteration.\n",
    "\n",
    "continue statement is opposite to that of break statement, instead of terminating the loop, it forces to execute the next iteration of the loop."
   ]
  },
  {
   "cell_type": "markdown",
   "metadata": {},
   "source": [
    "# Q12\n",
    "\n",
    " In a for loop, what is the difference between range(10), range(0, 10), and range(0, 10, 1)?\n",
    " \n",
    " range(start,stop,step)\n",
    " \n",
    " range(10) --> it is used to generate series of numbers from 0 to 9 here we mentioned only ending interger\n",
    " range(0,10) --> it is used to generate series of numbers from 0 to 9 here we mentioned starting, ending integers\n",
    " range(0,10,1) --> it is used to generate series of numbers from 0 to 9 with step or increment of 1 here we mentioned start, step step."
   ]
  },
  {
   "cell_type": "code",
   "execution_count": 116,
   "metadata": {},
   "outputs": [
    {
     "name": "stdout",
     "output_type": "stream",
     "text": [
      "1 2 3 4 5 6 7 8 9 10 \n",
      "1 2 3 4 5 6 7 8 9 10 "
     ]
    }
   ],
   "source": [
    "# Q13\n",
    "\n",
    "'''Using a for loop, write a short programme that prints the numbers 1 to 10 Then, using a while loop,\n",
    "create an identical programme that prints the numbers 1 to 10.'''\n",
    "\n",
    "for i in range(1,11):\n",
    "    print(i,end=' ')\n",
    "    \n",
    "i=1\n",
    "print()\n",
    "while(i<=10):\n",
    "    print(i,end = \" \")\n",
    "    i += 1"
   ]
  },
  {
   "cell_type": "markdown",
   "metadata": {},
   "source": [
    "# Q14\n",
    "\n",
    "If you had a bacon() function within a spam module, how  would you call it after importing spam?\n",
    "\n",
    "spam.bacon()"
   ]
  }
 ],
 "metadata": {
  "kernelspec": {
   "display_name": "Python 3",
   "language": "python",
   "name": "python3"
  },
  "language_info": {
   "codemirror_mode": {
    "name": "ipython",
    "version": 3
   },
   "file_extension": ".py",
   "mimetype": "text/x-python",
   "name": "python",
   "nbconvert_exporter": "python",
   "pygments_lexer": "ipython3",
   "version": "3.8.1"
  }
 },
 "nbformat": 4,
 "nbformat_minor": 4
}
