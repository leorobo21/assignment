{
 "cells": [
  {
   "cell_type": "markdown",
   "metadata": {},
   "source": [
    "##########Assignment11##########\n",
    "1. Create an assert statement that throws an AssertionError if the variable spam is a negative integer.\n",
    "> assert spam >= 0, \"Entered a negitive number\"\n",
    "\n",
    "2. Write an assert statement that triggers an AssertionError if the variables eggs and bacon contain strings that are the same as each other, even if their cases are different (that is, 'hello' and 'hello' are considered the same, and 'goodbye' and 'GOODbye' are also considered the same).\n",
    "> assert str(eggs).lower() != str(bacon).lower(), \"Both variables are same\"\n",
    "\n",
    "3. Create assert statement that throws an AssertionError every time.\n",
    "> assert False\n",
    "\n",
    "4. What are the two lines that must be present in your software in order to call logging.debug()?\n",
    "> import logging\n",
    "> logging.basicConfig(level=logging.DEBUG,format='%(asctime)s-%(levelname)s-%(message)s')\n",
    "\n",
    "5. What are the two lines that your program must have in order to have logging.debug() send a logging message to a file named programLog.txt?\n",
    "> import logging\n",
    "> logging.basicConfig(filename='programLog.txt',level=logging.DEBUG,format='%(asctime)s-%(levelname)s-%(message)s')\n",
    "\n",
    "6. What are the five levels of logging?\n",
    "> Debug,Info,Warning,Critical,Error.\n",
    "\n",
    "7. What line of code would you add to your software to disable all logging messages?\n",
    "> logging.disable(logging.CRITICAL)\n",
    "8.Why is using logging messages better than using print() to display the same message?\n",
    "> We can disable the logging messages without removing them, also we can disable lower level messages, it will give us timestamp also.\n",
    "\n",
    "9. What are the differences between the Step Over, Step In, and Step Out buttons in the debugger?\n",
    "> Step In - will go to function call will execute the code line by line we can see the execution until it comes to return.\n",
    "> Step Over - if there is any function call will executes all the steps returns the result, we can't see the code execution line by line\n",
    "> Step Out - first it will Step In function call, if we want to skip to see execution of steps then it will returns the results, move to the the next line after funcion call\n",
    "\n",
    "10. After you click Continue, when will the debugger stop ?\n",
    "> it will stop until it hits breakpoint\n",
    "\n",
    "11. What is the concept of a breakpoint?\n",
    "> the breakpoint is used to pause the execution of the program when it is reached that point or line."
   ]
  },
  {
   "cell_type": "code",
   "execution_count": null,
   "metadata": {},
   "outputs": [],
   "source": []
  }
 ],
 "metadata": {
  "kernelspec": {
   "display_name": "Python 3 (ipykernel)",
   "language": "python",
   "name": "python3"
  },
  "language_info": {
   "codemirror_mode": {
    "name": "ipython",
    "version": 3
   },
   "file_extension": ".py",
   "mimetype": "text/x-python",
   "name": "python",
   "nbconvert_exporter": "python",
   "pygments_lexer": "ipython3",
   "version": "3.8.1"
  }
 },
 "nbformat": 4,
 "nbformat_minor": 4
}
