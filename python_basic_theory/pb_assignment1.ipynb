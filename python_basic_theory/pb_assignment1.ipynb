{
 "cells": [
  {
   "cell_type": "markdown",
   "metadata": {},
   "source": [
    "# Q1\n",
    "\n",
    "    Operators uses in between values to do a operation.\n",
    "\n",
    "    *(Asterisk) --> is a operator which is used for multiplication purpose\n",
    "\n",
    "    'hello' --> is a value which is in string form\n",
    "\n",
    "    -87.8 --> is a value which is holding negative floating value\n",
    "\n",
    "    -  --> is a oprator which is used for substraction purpose\n",
    "\n",
    "    / --> is a operator which is used for division purpose\n",
    "\n",
    "    + --> is a operator which is used for addition purpose\n",
    "\n",
    "    6 --> is a value which is holding a positive integer value"
   ]
  },
  {
   "cell_type": "markdown",
   "metadata": {},
   "source": [
    "# Q2\n",
    "    spam --> it is a variable which can hold any value\n",
    "    \n",
    "    'spam' --> it is a string we can represent it by using single('')/double(\"\")/triple quotes(''' ''')"
   ]
  },
  {
   "cell_type": "markdown",
   "metadata": {},
   "source": [
    "# Q3\n",
    "\n",
    "    python has built-in data types:\n",
    "        # Numeric --> Integer,Float,Complex number\n",
    "        # set\n",
    "        # Dictionary\n",
    "        # Sequences --> List,Tuple,String\n",
    "        # Boolean"
   ]
  },
  {
   "cell_type": "markdown",
   "metadata": {},
   "source": [
    "# Q4\n",
    "\n",
    "    Expression is a combination of values, variables, operators.Expressions need to be evaluated.If you ask Python to\n",
    "    print an expression, the interpreter evaluates the expression and displays the result. Expressions are representations\n",
    "    of a value they can be assign to a variable"
   ]
  },
  {
   "cell_type": "markdown",
   "metadata": {},
   "source": [
    "# Q5\n",
    "\n",
    "    difference between an expression and a statement\n",
    "    let's explain with the help of example:\n",
    "    spam = 10 in this case we can say 10 is an expression it self which is assigned to varaiable called spam this entire\n",
    "    process (spam=10) can be called as statement\n",
    "    "
   ]
  },
  {
   "cell_type": "markdown",
   "metadata": {},
   "source": [
    " # Q6\n",
    " \n",
    "     What does the variable bacon contain after the following code runs?\n",
    "     bacon = 20\n",
    "     bacon + 1\n",
    "     \n",
    "     output = 20\n",
    "     why because here we just added 1 to bacon variable at this opration it will give a value 21 but it is not stored in \n",
    "     bacon so it will give output as 20."
   ]
  },
  {
   "cell_type": "markdown",
   "metadata": {},
   "source": [
    " # Q7\n",
    " \n",
    "     What should the following two expressions evaluate to?\n",
    "     'spam' + 'spamspam' --> 'spamspamspam'\n",
    "     'spam' * 3 --> 'spamspamspam'"
   ]
  },
  {
   "cell_type": "markdown",
   "metadata": {},
   "source": [
    "# Q8\n",
    "\n",
    "    Why is eggs a valid variable name while 100 is invalid?\n",
    "    \n",
    "    python language follows certain rules for defining variable names:\n",
    "    --> A variable name must start with a letter or the underscore character\n",
    "    --> A variable name cannot start with a number\n",
    "    --> A variable name can only contain alpha-numeric characters and underscores (A-z, 0-9, and _ )\n",
    "    --> Variable names are case-sensitive (age, Age and AGE are three different variables)\n",
    "    \n",
    "    from this conditions one can say eggs is an valid variable name and 100 is invalid variable name.\n",
    "    "
   ]
  },
  {
   "cell_type": "markdown",
   "metadata": {},
   "source": [
    "# Q9\n",
    "\n",
    "     What three functions can be used to get the integer, floating-point number, or string version of a value?\n",
    "     \n",
    "     integer - int()\n",
    "     floating-point - float()\n",
    "     string - str()"
   ]
  },
  {
   "cell_type": "markdown",
   "metadata": {},
   "source": [
    "# Q10\n",
    "\n",
    "    Why does this expression cause an error? How can you fix it?\n",
    "    'I have eaten ' + 99 + ' burritos.'\n",
    "    it's causing error because we are trying to concatenate integer and string to avoid this we can convert integer to\n",
    "    string 'I have eaten ' + str(99) + ' burritos.'\n"
   ]
  }
 ],
 "metadata": {
  "kernelspec": {
   "display_name": "Python 3",
   "language": "python",
   "name": "python3"
  },
  "language_info": {
   "codemirror_mode": {
    "name": "ipython",
    "version": 3
   },
   "file_extension": ".py",
   "mimetype": "text/x-python",
   "name": "python",
   "nbconvert_exporter": "python",
   "pygments_lexer": "ipython3",
   "version": "3.8.1"
  }
 },
 "nbformat": 4,
 "nbformat_minor": 4
}
