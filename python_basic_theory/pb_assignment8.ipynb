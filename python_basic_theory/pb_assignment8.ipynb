{
 "cells": [
  {
   "cell_type": "markdown",
   "metadata": {},
   "source": [
    "##########Assignment8##########\n",
    "1. Is the Python Standard Library included with PyInputPlus?\n",
    "> No it's not a Python Standard Library\n",
    "\n",
    "2. Why is PyInputPlus commonly imported with import pyinputplus as pypi?\n",
    "> just to igone every time to type pyinputplus.\n",
    "\n",
    "3. How do you distinguish between inputInt() and inputFloat()?\n",
    "> inputInt() - will run till entred number is integer, inputFloat() - will take any number and convert it into float.\n",
    "\n",
    "4. Using PyInputPlus, how do you ensure that the user enters a whole number between 0 and 99?\n",
    "> pypi.inputInt(min=0,max=99)\n",
    "\n",
    "5. What is transferred to the keyword arguments allowRegexes and blockRegexes?\n",
    "> allowRegexes - will allows those matching mentioned in allowRegexes\n",
    "> blockRegexes - will not matches those mentioned in blockRegexes\n",
    "\n",
    "6. If a blank input is entered three times, what does inputStr(limit=3) do?\n",
    "> RetryLimitException: will raise\n",
    "\n",
    "7. If blank input is entered three times, what does inputStr(limit=3, default='hello') do?\n",
    "> hello will come as output"
   ]
  },
  {
   "cell_type": "code",
   "execution_count": null,
   "metadata": {},
   "outputs": [],
   "source": []
  }
 ],
 "metadata": {
  "kernelspec": {
   "display_name": "Python 3 (ipykernel)",
   "language": "python",
   "name": "python3"
  },
  "language_info": {
   "codemirror_mode": {
    "name": "ipython",
    "version": 3
   },
   "file_extension": ".py",
   "mimetype": "text/x-python",
   "name": "python",
   "nbconvert_exporter": "python",
   "pygments_lexer": "ipython3",
   "version": "3.8.1"
  }
 },
 "nbformat": 4,
 "nbformat_minor": 4
}
