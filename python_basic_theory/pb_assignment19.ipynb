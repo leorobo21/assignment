{
 "cells": [
  {
   "cell_type": "code",
   "execution_count": null,
   "metadata": {},
   "outputs": [],
   "source": [
    "########## Assignment20##########\n",
    "\n",
    "#1. Set the variable test1 to the string 'This is a test of the emergency text system,' and save test1 to a file named test.txt.\n",
    "test1 = 'This is a test of the emergency text system,'\n",
    "f = open('test.txt',w)\n",
    "f.write(test1)\n",
    "f.close()\n",
    "#2. Read the contents of the file test.txt into the variable test2. Is there a difference between test 1 and test 2?\n",
    "f = open('test.txt','r')\n",
    "test2 = f.readline()\n",
    "f.close()\n",
    "print(test1 == test2)\n",
    "\n",
    "#3. Create a CSV file called books.csv by using these lines:\n",
    "#title,author,year\n",
    "#The Weirdstone of Brisingamen,Alan Garner,1960\n",
    "#Perdido Street Station,China Miéville,2000\n",
    "#Thud!,Terry Pratchett,2005\n",
    "#The Spellman Files,Lisa Lutz,2007\n",
    "#Small Gods,Terry Pratchett,1992\n",
    "import csv\n",
    "rows =[ ['title','author','year'],\n",
    "    ['The Weirdstone of Brisingamen','Alan Garner',1960],\n",
    "    ['Perdido Street Station','China Miéville',2000],\n",
    "    ['Thud!','Terry Pratchett',2005],\n",
    "    ['The Spellman Files','Lisa Lutz',2007],\n",
    "    ['Small Gods','Terry Pratchett',1992]]\n",
    "with open('books.csv','w',newline='') as file:\n",
    "    writer = csv.writer(file)\n",
    "    writer.writerows(rows)\n",
    "\n",
    "#4. Use the sqlite3 module to create a SQLite database called books.db, and a table called books with these fields: title (text), author (text), and year (integer).\n",
    "import sqlite3\n",
    "conn = sqlite3.connect('books.db')\n",
    "c = conn.cursor()\n",
    "\n",
    "c.execute('create table books(title varchar(20),author varchar(20), year int)')\n",
    "conn.commit()\n",
    "\n",
    "#5. Read books.csv and insert its data into the book table.\n",
    "import csv\n",
    "\n",
    "f = open('books.csv')\n",
    "contents = csv.reader(f)\n",
    "insert_records = \"INSERT INTO books (title, author, year) VALUES(?, ?, ?)\"\n",
    "\n",
    "next(contents)\n",
    "for i in contents:\n",
    "\tc.execute(insert_records, i)\n",
    " \n",
    "conn.commit()\n",
    "# conn.close()\n",
    "\n",
    "#6. Select and print the title column from the book table in alphabetical order.\n",
    "c.execute('select title from books order by title asc')\n",
    "print(c.fetchall())\n",
    "\n",
    "#7. From the book table, select and print all columns in the order of publication.\n",
    "c.execute('select title, author,year from books order by year')\n",
    "print(c.fetchall())\n",
    "\n",
    "#8. Use the sqlalchemy module to connect to the sqlite3 database books.db that you just made in exercise 6.\n",
    "import sqlalchemy\n",
    "engine = sqlalchemy.create_engine(\"sqlite:///books.db\")\n",
    "rows = engine.execute('select * from books')\n",
    "for i in rows:\n",
    "    print(i)\n",
    "\n",
    "\n"
   ]
  },
  {
   "cell_type": "code",
   "execution_count": null,
   "metadata": {},
   "outputs": [],
   "source": []
  },
  {
   "cell_type": "code",
   "execution_count": null,
   "metadata": {},
   "outputs": [],
   "source": [
    "#9. Install the Redis server and the Python redis library (pip install redis) on your computer. \n",
    "#Create a Redis hash called test with the fields count (1) and name ('Fester Bestertester'). Print all the fields for test.\n",
    "import redis\n",
    "conn = redis.Redis()\n",
    "conn.hmset('test', {'count': 1, 'name': 'Fester Bestertester'})\n",
    "conn.hgetall('test')\n"
   ]
  },
  {
   "cell_type": "code",
   "execution_count": null,
   "metadata": {},
   "outputs": [],
   "source": [
    "#10. Increment the count field of test and print it.\n",
    "conn.hincrby('test','count', 3)"
   ]
  }
 ],
 "metadata": {
  "kernelspec": {
   "display_name": "Python 3 (ipykernel)",
   "language": "python",
   "name": "python3"
  },
  "language_info": {
   "codemirror_mode": {
    "name": "ipython",
    "version": 3
   },
   "file_extension": ".py",
   "mimetype": "text/x-python",
   "name": "python",
   "nbconvert_exporter": "python",
   "pygments_lexer": "ipython3",
   "version": "3.8.1"
  }
 },
 "nbformat": 4,
 "nbformat_minor": 4
}
