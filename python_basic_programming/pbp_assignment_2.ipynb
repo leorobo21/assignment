{
 "cells": [
  {
   "cell_type": "code",
   "execution_count": null,
   "metadata": {},
   "outputs": [],
   "source": [
    "#1\n",
    "print(\"This programme will convert Km to miles\")\n",
    "km = int(input(\"enter distance in Kilometers: \"))\n",
    "print(\"Distance in miles: \",km/1.609344)"
   ]
  },
  {
   "cell_type": "code",
   "execution_count": null,
   "metadata": {},
   "outputs": [],
   "source": [
    "#2\n",
    "print(\"This programme will convert temperature from Celsius to Fahrenheit\")\n",
    "cs = float(input(\"Enter temperature in Celsius: \"))\n",
    "print(\"Temparature in Fahrenheit: \",(9/5)*cs + 32)"
   ]
  },
  {
   "cell_type": "code",
   "execution_count": null,
   "metadata": {},
   "outputs": [],
   "source": [
    "#3\n",
    "import calendar\n",
    "print(\"This programme will display the calender of the month which you want\")\n",
    "y,m = input(\"enter year and month in yyyy mm format: \").split()\n",
    "print(\"\\n\",calendar.month(int(y),int(m)))"
   ]
  },
  {
   "cell_type": "code",
   "execution_count": null,
   "metadata": {},
   "outputs": [],
   "source": [
    "#4\n",
    "import cmath\n",
    "'''\n",
    "If b*b < 4*a*c, then roots are complex\n",
    "(not real).\n",
    "For example roots of x2 + x + 1, roots are\n",
    "-0.5 + i1.73205 and -0.5 - i1.73205\n",
    "\n",
    "If b*b == 4*a*c, then roots are real \n",
    "and both roots are same.\n",
    "For example, roots of x2 - 2x + 1 are 1 and 1\n",
    "\n",
    "If b*b > 4*a*c, then roots are real \n",
    "and different.\n",
    "For example, roots of x2 - 7x - 12 are 3 and 4\n",
    "'''\n",
    "\n",
    "print(\"This will give you the solution for Quadratic Equation\")\n",
    "a,b,c = map(float,input(\"Enter three coefficients x y z: \").split())\n",
    "d = (b**2) - (4*a*c)\n",
    "sd = d**0.5\n",
    "# sol1 = (-b-(d)**0.5)/(2*a)  \n",
    "# sol2 = (-b+(d)**0.5)/(2*a)\n",
    "if d > 0: \n",
    "    print(\"\\nreal and different roots \") \n",
    "    print((-b + sd)/(2 * a)) \n",
    "    print((-b - sd)/(2 * a)) \n",
    "      \n",
    "elif d == 0: \n",
    "    print(\"\\nreal and same roots\") \n",
    "    print(-b / (2 * a)) \n",
    "      \n",
    "# when discriminant is less than 0\n",
    "else:\n",
    "    print(\"\\nComplex Roots\") \n",
    "    print(- b / (2 * a), \" + i\", sd) \n",
    "    print(- b / (2 * a), \" - i\", sd) "
   ]
  },
  {
   "cell_type": "code",
   "execution_count": null,
   "metadata": {},
   "outputs": [],
   "source": [
    "#5\n",
    "print(\"This programme will swap your numbers\")\n",
    "a,b = input(\"enter 2 numbers like a b: \").split()\n",
    "print(\"Before swap\",a,b)\n",
    "a,b = b,a\n",
    "print(\"After swap\",a,b)"
   ]
  }
 ],
 "metadata": {
  "kernelspec": {
   "display_name": "Python 3",
   "language": "python",
   "name": "python3"
  },
  "language_info": {
   "codemirror_mode": {
    "name": "ipython",
    "version": 3
   },
   "file_extension": ".py",
   "mimetype": "text/x-python",
   "name": "python",
   "nbconvert_exporter": "python",
   "pygments_lexer": "ipython3",
   "version": "3.8.1"
  }
 },
 "nbformat": 4,
 "nbformat_minor": 4
}
