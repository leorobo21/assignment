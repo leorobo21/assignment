{
 "cells": [
  {
   "cell_type": "code",
   "execution_count": null,
   "metadata": {},
   "outputs": [],
   "source": [
    "# 1.Write a Python program to print \"Hello Python\"?\n",
    "#1.Ans \n",
    "print(\"Hello Python\")"
   ]
  },
  {
   "cell_type": "code",
   "execution_count": null,
   "metadata": {},
   "outputs": [],
   "source": [
    "# 2.Write a Python program to do arithmetical operations addition and division.?\n",
    "#2.Ans\n",
    "print(\"Enter two numbers to find thier sum, division\")\n",
    "first_number = int(input(\"enter first number\"))\n",
    "second_number = int(input(\"enter second number\"))\n",
    "print(f\"Addition of {first_number} and {second_number} = \",first_number+second_number)\n",
    "print(f\"Division of {first_number} and {second_number} = \",first_number/second_number)"
   ]
  },
  {
   "cell_type": "code",
   "execution_count": null,
   "metadata": {},
   "outputs": [],
   "source": [
    "# 3.Write a Python program to find the area of a triangle?\n",
    "#3.Ans\n",
    "print(\"This programme will give you the area of triangle\")\n",
    "print(\"enter 3 sides of a triangle\")\n",
    "s1 = int(input(\"Side1: \"))\n",
    "s2 = int(input(\"Side2: \"))\n",
    "s3 = int(input(\"Side3: \"))\n",
    "s = (s1+s2+s3)/2\n",
    "print(s)\n",
    "print(\"Area of a triangle: \",(s*((s-s1)*(s-s2)*(s-s3)))**0.5)"
   ]
  },
  {
   "cell_type": "code",
   "execution_count": null,
   "metadata": {},
   "outputs": [],
   "source": [
    "#Write a Python program to find the area of a triangle?\n",
    "#4.Ans\n",
    "print(\"This programme will swap your numbers\")\n",
    "a,b = input(\"enter 2 numbers like a b: \").split()\n",
    "print(\"Before swap\",a,b)\n",
    "a,b = b,a\n",
    "print(\"After swap\",a,b)"
   ]
  },
  {
   "cell_type": "code",
   "execution_count": null,
   "metadata": {},
   "outputs": [],
   "source": [
    "# 5.Write a Python program to generate a random number?\n",
    "#5.Ans\n",
    "import random\n",
    "print('This programme will generate random number in the range of 0 to 10000: ',random.randint(0,10000))"
   ]
  }
 ],
 "metadata": {
  "kernelspec": {
   "display_name": "Python 3",
   "language": "python",
   "name": "python3"
  },
  "language_info": {
   "codemirror_mode": {
    "name": "ipython",
    "version": 3
   },
   "file_extension": ".py",
   "mimetype": "text/x-python",
   "name": "python",
   "nbconvert_exporter": "python",
   "pygments_lexer": "ipython3",
   "version": "3.8.1"
  }
 },
 "nbformat": 4,
 "nbformat_minor": 4
}
