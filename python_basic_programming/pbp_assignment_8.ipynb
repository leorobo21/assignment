{
 "cells": [
  {
   "cell_type": "code",
   "execution_count": null,
   "metadata": {},
   "outputs": [],
   "source": [
    "Write a Python Program to Add Two Matrices?\n",
    "Write a Python Program to Multiply Two Matrices?\n",
    "Write a Python Program to Transpose a Matrix?\n",
    "Write a Python Program to Sort Words in Alphabetic Order?\n",
    "Write a Python Program to Remove Punctuation From a String?\n"
   ]
  },
  {
   "cell_type": "code",
   "execution_count": null,
   "metadata": {},
   "outputs": [],
   "source": [
    "#1.Write a Python Program to Add Two Matrices?\n",
    "def mat_add(a,b):\n",
    "  out = [[k+l for k,l in zip(i,j)] for i,j in zip(a,b)]\n",
    "  # out = []\n",
    "  # for i,j in zip(a,b):\n",
    "  #   intr = []\n",
    "  #   for k,l in zip(i,j):\n",
    "  #     intr.append(k+l)\n",
    "  #   out.append(intr)\n",
    "  #   intr = []\n",
    "  return out\n",
    "try:\n",
    "  print(\"Following Program will give addition of 2 matrices\")\n",
    "  m,n = map(int,input(\"Choose size size of matrix(rows,columns), m n: \").split())\n",
    "  print(m,n)\n",
    "  mat1 = [list(map(int,input(f\"Enter {n} elements for {i+1} row in space seperated for 1st matrix, a b . .: \").split())) for i in range(m)]\n",
    "  mat2 = [list(map(int,input(f\"Enter {n} elements for {i+1} row in space seperated for 2nd matrix, a b . .: \").split())) for i in range(m)]\n",
    "  print(mat_add(mat1,mat2))\n",
    "except Exception as e:\n",
    "  print(\"Error: \",str(e))"
   ]
  },
  {
   "cell_type": "code",
   "execution_count": null,
   "metadata": {},
   "outputs": [],
   "source": [
    "# 2.Write a Python Program to Multiply Two Matrices?\n",
    "def mat_mult(a,b):\n",
    "  out = []\n",
    "  intr = []\n",
    "  for i in range(m1):\n",
    "    temp = 0\n",
    "    for j in range(n2):\n",
    "      for k in range(m2):\n",
    "        temp = temp + (a[i][k] * b[k][j])\n",
    "      intr.append(temp)\n",
    "      temp = 0\n",
    "    out.append(intr)\n",
    "    intr = []\n",
    "  # out = [[sum(i * j for i, j in zip(row, col)) for col in zip(*b)] for row in a]\n",
    "  return out\n",
    "\n",
    "\n",
    "try:\n",
    "  print(\"Following Program will give multiplication of 2 matrices\")\n",
    "  m1,n1 = map(int,input(\"Choose size size of first matrix(rows,columns), m n: \").split())\n",
    "  m2,n2 = map(int,input(\"Choose size size of second matrix(rows,columns), m n: \").split())\n",
    "  if n1 != m2:\n",
    "    print(\"Total number of Columns in first matrix should be equal to total number of rows in second matrix\")\n",
    "    exit()\n",
    "  mat1 = [list(map(int,input(f\"Enter {n1} elements for {i+1} row in space seperated for 1st matrix, a b . .: \").split())) for i in range(m1)]\n",
    "  mat2 = [list(map(int,input(f\"Enter {n2} elements for {i+1} row in space seperated for 2nd matrix, a b . .: \").split())) for i in range(m2)]\n",
    "  print(f\"\\nmat1-{mat1}, mat2 - {mat2}\")\n",
    "  print(\"Output: \",mat_mult(mat1,mat2))\n",
    "except Exception as e:\n",
    "  print(\"Error: \",str(e))"
   ]
  },
  {
   "cell_type": "code",
   "execution_count": null,
   "metadata": {},
   "outputs": [],
   "source": [
    "# 3.Write a Python Program to Transpose a Matrix?\n",
    "\n",
    "def mat_transpose(a):\n",
    "  tran = []\n",
    "  # for i in zip(*a):\n",
    "  #   tran.append(list(i))\n",
    "  for i in range(len(a[0])):\n",
    "    print(\"i\",i)\n",
    "    intr = []\n",
    "    for j in range(len(a)):\n",
    "      intr.append(a[j][i])\n",
    "    tran.append(intr)\n",
    "    intr = []\n",
    "  return tran\n",
    "try:\n",
    "  print(\"Following Program will give Transpose of matrix\")\n",
    "  m,n = map(int,input(\"Choose size size of matrix(rows,columns), m n: \").split())\n",
    "  mat = [list(map(int,input(f\"Enter {n} elements for {i+1} row in space seperated for 1st matrix, a b . .: \").split())) for i in range(m)]\n",
    "  print(\"\\nInput Matrix: \", mat)\n",
    "  print(\"Transpose Matrx: \",mat_transpose(mat))\n",
    "except Exception as e:\n",
    "  print(\"Error: \",str(e))"
   ]
  },
  {
   "cell_type": "code",
   "execution_count": null,
   "metadata": {},
   "outputs": [],
   "source": [
    "# 4.Write a Python Program to Sort Words in Alphabetic Order?\n",
    "\n",
    "try:\n",
    "  print(\"Following Program will give Sorted order of the words\")\n",
    "  a = input(\"Enter a string: \")\n",
    "  w = [i.lower() for i in a.split()]\n",
    "  w.sort()\n",
    "\n",
    "  print(\"Sorted Output: \",' '.join(w))\n",
    "except Exception as e:\n",
    "  print(\"Error: \",str(e))"
   ]
  },
  {
   "cell_type": "code",
   "execution_count": null,
   "metadata": {},
   "outputs": [],
   "source": [
    "# 5.Write a Python Program to Remove Punctuation From a String?\n",
    "\n",
    "try:\n",
    "  print(\"Following Program will Remove Punctuation From a String\")\n",
    "  a = input(\"Enter a string: \")\n",
    "  punctuations = '''!()-[]{};:'\"\\,<>./?@#$%^&*_~'''\n",
    "\n",
    "  out = \"\"\n",
    "  for char in a:\n",
    "    if char not in punctuations:\n",
    "        out += char\n",
    "\n",
    "  print(out)\n",
    "except Exception as e:\n",
    "  print(\"Error: \",str(e))"
   ]
  }
 ],
 "metadata": {
  "colab": {
   "collapsed_sections": [],
   "name": "Untitled2.ipynb",
   "provenance": []
  },
  "kernelspec": {
   "display_name": "Python 3 (ipykernel)",
   "language": "python",
   "name": "python3"
  },
  "language_info": {
   "codemirror_mode": {
    "name": "ipython",
    "version": 3
   },
   "file_extension": ".py",
   "mimetype": "text/x-python",
   "name": "python",
   "nbconvert_exporter": "python",
   "pygments_lexer": "ipython3",
   "version": "3.8.1"
  }
 },
 "nbformat": 4,
 "nbformat_minor": 1
}
