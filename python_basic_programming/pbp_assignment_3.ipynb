{
 "cells": [
  {
   "cell_type": "code",
   "execution_count": null,
   "metadata": {
    "colab": {
     "base_uri": "https://localhost:8080/"
    },
    "id": "mgUOhOZ6QU1f",
    "outputId": "16864f57-b6c5-4e48-93cb-e12d535ad7b3"
   },
   "outputs": [],
   "source": [
    "#1\n",
    "print(\"This programme will check the given number is positive, negative or zero\")\n",
    "a = int(input(\"enter a number\"))\n",
    "if a > 0:print(\"entered number is Positive\")\n",
    "elif a < 0:print(\"entered number is Negative\")\n",
    "else:print(\"entered number is Zero\")"
   ]
  },
  {
   "cell_type": "code",
   "execution_count": null,
   "metadata": {
    "colab": {
     "base_uri": "https://localhost:8080/"
    },
    "id": "aRYXjf5jo_wf",
    "outputId": "2c3d5a1f-92f3-444c-a074-964dd398ec0a"
   },
   "outputs": [],
   "source": [
    "#2\n",
    "print(\"This programme will check the given number is even or odd\")\n",
    "a = int(input(\"Enter a number: \"))\n",
    "if a%2 == 0: print(\"Entered number is Even\")\n",
    "else: print(\"Entered number is Odd\")"
   ]
  },
  {
   "cell_type": "code",
   "execution_count": null,
   "metadata": {
    "colab": {
     "base_uri": "https://localhost:8080/"
    },
    "id": "mA-Shl2Rp-L1",
    "outputId": "46b75c18-6d22-4ee0-9adb-7d50fa140f77"
   },
   "outputs": [],
   "source": [
    "#3\n",
    "print(\"This programme will check the year leap or not\")\n",
    "l = int(input(\"enter a year: \"))\n",
    "if (l%4 == 0 and l%100 != 0) or (l%400 == 0):print(l,\" is a Leap year\")\n",
    "else:print(l,\" is not a Leap year\")"
   ]
  },
  {
   "cell_type": "code",
   "execution_count": null,
   "metadata": {
    "colab": {
     "base_uri": "https://localhost:8080/"
    },
    "id": "N4nTkxIzr28j",
    "outputId": "a80ff210-4d85-406d-d1db-831040ca875f"
   },
   "outputs": [],
   "source": [
    "#4\n",
    "print(\"This programme will check the given number is prime or not\")\n",
    "num = int(input(\"Enter a year\"))\n",
    "if num > 1:\n",
    "  for i in range(2, int(num/2)+1):\n",
    "    if (num % i) == 0:\n",
    "      print(num, \"is not a prime number\")\n",
    "      break\n",
    "  else:\n",
    "      print(num, \"is a prime number\")\n",
    " \n",
    "else:\n",
    "    print(num, \"is not a prime number\")"
   ]
  },
  {
   "cell_type": "code",
   "execution_count": null,
   "metadata": {
    "colab": {
     "base_uri": "https://localhost:8080/"
    },
    "id": "lt-HBDNruTNq",
    "outputId": "cdda6d65-cb66-4f6e-ec69-6ddb815102ed"
   },
   "outputs": [],
   "source": [
    "#5\n",
    "print(\"This programme will print prime numbers from 1 to 10000\")\n",
    "for n in range(1,10001):\n",
    "  if n > 1:\n",
    "    for i in range(2,int(n/2)+1):  \n",
    "        if (n % i) == 0:  \n",
    "            break\n",
    "    else:  \n",
    "        print(n,end=\",\")"
   ]
  }
 ],
 "metadata": {
  "colab": {
   "collapsed_sections": [],
   "name": "Untitled2.ipynb",
   "provenance": []
  },
  "kernelspec": {
   "display_name": "Python 3",
   "language": "python",
   "name": "python3"
  },
  "language_info": {
   "codemirror_mode": {
    "name": "ipython",
    "version": 3
   },
   "file_extension": ".py",
   "mimetype": "text/x-python",
   "name": "python",
   "nbconvert_exporter": "python",
   "pygments_lexer": "ipython3",
   "version": "3.8.1"
  }
 },
 "nbformat": 4,
 "nbformat_minor": 1
}
