{
 "cells": [
  {
   "cell_type": "code",
   "execution_count": null,
   "metadata": {},
   "outputs": [],
   "source": [
    "# Write a Python Program to Display Fibonacci Sequence Using Recursion?\n",
    "def fib(n):\n",
    "  if n == 1 or n == 0:\n",
    "    return n\n",
    "  else:\n",
    "    return (fib(n-1) + fib(n-2))\n",
    "\n",
    "try:\n",
    "  n = int(input(\"Enter number of terms for Fibonacci Sequence: \"))\n",
    "  out = [str(fib(i)) for i in range(n)]\n",
    "  print(','.join(out))\n",
    "except Exception as e:\n",
    "  print(\"Error occured: \",str(e))"
   ]
  },
  {
   "cell_type": "code",
   "execution_count": null,
   "metadata": {},
   "outputs": [],
   "source": [
    "# 2.Write a Python Program to Find Factorial of Number Using Recursion?\n",
    "def fact(n):\n",
    "  if n == 0 or n == 1:\n",
    "    return 1\n",
    "  return n*fact(n-1)\n",
    "\n",
    "\n",
    "try:\n",
    "  n = int(input(\"Enter a number to find it's Factorial: \"))\n",
    "  if n < 0:\n",
    "    print(\"Please enter positive number\")\n",
    "    exit()\n",
    "  out = fact(n)\n",
    "  print(f\"Factorial of {n}: {out}\")\n",
    "except Exception as e:\n",
    "  print(\"Error occured: \",str(e))"
   ]
  },
  {
   "cell_type": "code",
   "execution_count": null,
   "metadata": {},
   "outputs": [],
   "source": [
    "#3.Write a Python Program to calculate your Body Mass Index?\n",
    "#bmi = weight/(height**2) [kg/m^2]\n",
    "try:\n",
    "  w = float(input(\"Enter your weight in KG's: \"))\n",
    "  h = float(input(\"Enter your height in centimeters: \"))\n",
    "  h = h/100\n",
    "  bmi = w/(h**2)\n",
    "\n",
    "  if (bmi < 18.5):\n",
    "    print(f\"BMI - {bmi} is less than 18.5- Underweight\")\n",
    " \n",
    "  elif ( bmi >= 18.5 and bmi < 24.9):\n",
    "      print(f\"BMI - {bmi} is  in between 18.5 and 24.9 - Healthy\")\n",
    "  \n",
    "  elif ( bmi >= 24.9 and bmi < 30):\n",
    "      print(f\"BMI - {bmi} is in between 24.9 and 30 - Overweight\")\n",
    "  \n",
    "  elif ( bmi >=30):\n",
    "      print(f\" BMI - {bmi} is greter than 30 - Obesity\")\n",
    "except Exception as e:\n",
    "  print(f\"Error Occured: {e}\")"
   ]
  },
  {
   "cell_type": "code",
   "execution_count": null,
   "metadata": {},
   "outputs": [],
   "source": [
    "# 4.Write a Python Program to calculate the natural logarithm of any number?\n",
    "import math\n",
    "\n",
    "try:\n",
    "  n = float(input(\"Enter a number to find it's natural logarithm: \"))\n",
    "  print(\"Natural logarithm: \",math.log(n))\n",
    "except Exception as e:\n",
    "  print(\"Error occred: \",str(e))"
   ]
  },
  {
   "cell_type": "code",
   "execution_count": null,
   "metadata": {},
   "outputs": [],
   "source": [
    "# 5.Write a Python Program for cube sum of first n natural numbers?\n",
    "\n",
    "try:\n",
    "  n = int(input(\"Enter a number to find it's sum of cubes of the first n natural numbers: \"))\n",
    "  sn = ((n**2)*(n+1)**2)//4\n",
    "  print(\"Output:\",sn)\n",
    "except Exception as e:\n",
    "  print(\"Error occred: \",str(e))"
   ]
  }
 ],
 "metadata": {
  "colab": {
   "collapsed_sections": [],
   "name": "Untitled2.ipynb",
   "provenance": []
  },
  "kernelspec": {
   "display_name": "Python 3 (ipykernel)",
   "language": "python",
   "name": "python3"
  },
  "language_info": {
   "codemirror_mode": {
    "name": "ipython",
    "version": 3
   },
   "file_extension": ".py",
   "mimetype": "text/x-python",
   "name": "python",
   "nbconvert_exporter": "python",
   "pygments_lexer": "ipython3",
   "version": "3.8.1"
  }
 },
 "nbformat": 4,
 "nbformat_minor": 1
}
