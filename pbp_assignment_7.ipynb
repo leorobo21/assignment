{
 "cells": [
  {
   "cell_type": "code",
   "execution_count": null,
   "metadata": {},
   "outputs": [],
   "source": [
    "#1. Write a Python Program to find sum of array?\n",
    "\n",
    "try:\n",
    "  a = list(map(int,input(\"Enter elements in space seperated to find it's sum: \").split()))\n",
    "  sum = 0\n",
    "  for i in a:\n",
    "    sum += i\n",
    "  print(f\"Sum of the elements >> {sum}\")\n",
    "except Exception as e:\n",
    "  print(\"Error: \",str(e))"
   ]
  },
  {
   "cell_type": "code",
   "execution_count": null,
   "metadata": {},
   "outputs": [],
   "source": [
    "#2. Write a Python Program to find largest element in an array?\n",
    "\n",
    "try:\n",
    "  a = list(map(int,input(\"Enter elements in space seperated to find Largest among them: \").split()))\n",
    "  a.sort()\n",
    "  print(f\"Largest element >> {a[-1]}\")\n",
    "except Exception as e:\n",
    "  print(\"Error: \",str(e))"
   ]
  },
  {
   "cell_type": "code",
   "execution_count": null,
   "metadata": {},
   "outputs": [],
   "source": [
    "#3. Write a Python Program for array rotation?\n",
    "\n",
    "try:\n",
    "  a = list(map(int,input(\"Enter elements in space seperated to find them in reverse order: \").split()))\n",
    "  a.reverse()\n",
    "  print(f\"reverse order >> {a}\")\n",
    "except Exception as e:\n",
    "  print(\"Error: \",str(e))"
   ]
  },
  {
   "cell_type": "code",
   "execution_count": null,
   "metadata": {},
   "outputs": [],
   "source": [
    "#4. Write a Python Program to Split the array and add the first part to the end?\n",
    "\n",
    "try:\n",
    "  print(\"Following program will split the array and add the first part to end\")\n",
    "  a = list(map(int,input(\"Enter elements in space seperated : \").split()))\n",
    "  l = len(a)//2\n",
    "  fh = a[:l]\n",
    "  sh = a[l:]\n",
    "  print(f\"output >> {sh+fh}\")\n",
    "except Exception as e:\n",
    "  print(\"Error: \",str(e))"
   ]
  },
  {
   "cell_type": "code",
   "execution_count": null,
   "metadata": {},
   "outputs": [],
   "source": [
    "#5. Write a Python Program to check if given array is Monotonic?\n",
    "\n",
    "def monotonic(a):\n",
    "    s = a[1]\n",
    "    c = 0\n",
    "    if a[0] > a[1]:\n",
    "      for i in range(2,len(a)):\n",
    "        if s > a[i]:\n",
    "          s = a[i]\n",
    "          c += 1\n",
    "        else:\n",
    "          break\n",
    "      if c == len(a[2:]):\n",
    "        return \"It is a Monotonically Decreased array\"\n",
    "    else:\n",
    "      c = 0\n",
    "      for i in range(2,len(a)):\n",
    "        if s < a[i]:\n",
    "          s = a[i]\n",
    "          c += 1\n",
    "        else:\n",
    "          break\n",
    "      if c == len(a[2:]):\n",
    "        return \"It is a Monotonically Increased array\"\n",
    "    return \"It's not a Monotonic Array\"\n",
    "\n",
    "try:\n",
    "  print(\"Following program will Check entered Array is Monotonic or not\")\n",
    "  a = list(map(int,input(\"Enter elements in space seperated : \").split()))\n",
    "  print(monotonic(a))\n",
    "except Exception as e:\n",
    "  print(\"Error: \",str(e))"
   ]
  }
 ],
 "metadata": {
  "colab": {
   "collapsed_sections": [],
   "name": "Untitled2.ipynb",
   "provenance": []
  },
  "kernelspec": {
   "display_name": "Python 3 (ipykernel)",
   "language": "python",
   "name": "python3"
  },
  "language_info": {
   "codemirror_mode": {
    "name": "ipython",
    "version": 3
   },
   "file_extension": ".py",
   "mimetype": "text/x-python",
   "name": "python",
   "nbconvert_exporter": "python",
   "pygments_lexer": "ipython3",
   "version": "3.8.1"
  }
 },
 "nbformat": 4,
 "nbformat_minor": 1
}
